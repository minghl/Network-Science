{
 "cells": [
  {
   "cell_type": "markdown",
   "id": "fbfef0aa",
   "metadata": {},
   "source": [
    "# Collaboration by Minghao Li, Dongke Wang"
   ]
  },
  {
   "cell_type": "code",
   "execution_count": 1,
   "id": "e858af0a",
   "metadata": {},
   "outputs": [],
   "source": [
    "import networkx as nx\n",
    "import matplotlib.pyplot as plt\n",
    "import numpy as np\n",
    "import pandas as pd"
   ]
  },
  {
   "cell_type": "markdown",
   "id": "01054357",
   "metadata": {},
   "source": [
    "# Ao1.1"
   ]
  },
  {
   "cell_type": "markdown",
   "id": "e1a9dd45",
   "metadata": {},
   "source": [
    "## Method 1 "
   ]
  },
  {
   "cell_type": "code",
   "execution_count": 2,
   "id": "6d23a19b",
   "metadata": {},
   "outputs": [],
   "source": [
    "ws = nx.watts_strogatz_graph(32, 2, 0)"
   ]
  },
  {
   "cell_type": "code",
   "execution_count": 3,
   "id": "1e3ead67",
   "metadata": {},
   "outputs": [
    {
     "data": {
      "image/png": "[encoded data removed]",
      "text/plain": [
       "<Figure size 432x288 with 1 Axes>"
      ]
     },
     "metadata": {},
     "output_type": "display_data"
    }
   ],
   "source": [
    "nx.draw(ws)"
   ]
  },
  {
   "cell_type": "markdown",
   "id": "b9f29f54",
   "metadata": {},
   "source": [
    "## Method 2"
   ]
  },
  {
   "cell_type": "code",
   "execution_count": 4,
   "id": "6fa21125",
   "metadata": {},
   "outputs": [],
   "source": [
    "g = nx.Graph()"
   ]
  },
  {
   "cell_type": "code",
   "execution_count": 5,
   "id": "80c0228f",
   "metadata": {},
   "outputs": [],
   "source": [
    "degree =[]\n",
    "n = []"
   ]
  },
  {
   "cell_type": "code",
   "execution_count": 6,
   "id": "53f346c6",
   "metadata": {},
   "outputs": [],
   "source": [
    "for i in range(32):\n",
    "    if i <31:\n",
    "        degree.append((i,i+1))\n",
    "    else:\n",
    "        degree.append((0,31))"
   ]
  },
  {
   "cell_type": "code",
   "execution_count": 7,
   "id": "1f69f1ab",
   "metadata": {},
   "outputs": [],
   "source": [
    "for i in range(32):\n",
    "    n.append(i)"
   ]
  },
  {
   "cell_type": "code",
   "execution_count": 8,
   "id": "93951f51",
   "metadata": {},
   "outputs": [],
   "source": [
    "g.add_edges_from(degree)\n",
    "g.add_nodes_from(n)"
   ]
  },
  {
   "cell_type": "code",
   "execution_count": 9,
   "id": "cf6421dc",
   "metadata": {},
   "outputs": [
    {
     "data": {
      "image/png": "[encoded data removed]",
      "text/plain": [
       "<Figure size 432x288 with 1 Axes>"
      ]
     },
     "metadata": {},
     "output_type": "display_data"
    }
   ],
   "source": [
    "nx.draw(g)"
   ]
  },
  {
   "cell_type": "markdown",
   "id": "747b512c",
   "metadata": {},
   "source": [
    "# Ao1.2"
   ]
  },
  {
   "cell_type": "markdown",
   "id": "d346dcef",
   "metadata": {},
   "source": [
    "## Ao1.2a"
   ]
  },
  {
   "cell_type": "code",
   "execution_count": 10,
   "id": "4ade653c",
   "metadata": {},
   "outputs": [],
   "source": [
    "g1 = nx.read_gml(\"graph_netsci.gml\")"
   ]
  },
  {
   "cell_type": "code",
   "execution_count": 11,
   "id": "842ca117",
   "metadata": {},
   "outputs": [],
   "source": [
    "g2 = nx.read_edgelist(\"Assignment_1/facebook_combined.txt\")"
   ]
  },
  {
   "cell_type": "code",
   "execution_count": 12,
   "id": "83b022dc",
   "metadata": {},
   "outputs": [],
   "source": [
    "g3 = nx.read_gml(\"Assignment_1/karate.gml\", label = 'id')"
   ]
  },
  {
   "cell_type": "code",
   "execution_count": 13,
   "id": "3aeb6e0c",
   "metadata": {},
   "outputs": [],
   "source": [
    "def ave_den(g):\n",
    "    tdegree = 0\n",
    "    for i in g.nodes():\n",
    "        tdegree = tdegree+g.degree(i)\n",
    "    ave = tdegree/g.number_of_nodes()\n",
    "    den = g.number_of_edges()*2/(g.number_of_nodes()*g.number_of_nodes()-1)\n",
    "    return ave,den"
   ]
  },
  {
   "cell_type": "code",
   "execution_count": 14,
   "id": "5891d7dc",
   "metadata": {},
   "outputs": [
    {
     "data": {
      "text/plain": [
       "(3.753593429158111, 0.002569195884789086)"
      ]
     },
     "execution_count": 14,
     "metadata": {},
     "output_type": "execute_result"
    }
   ],
   "source": [
    "ave_den(g1)"
   ]
  },
  {
   "cell_type": "code",
   "execution_count": 15,
   "id": "5672e5ac",
   "metadata": {},
   "outputs": [
    {
     "data": {
      "text/plain": [
       "(43.69101262688784, 0.010817285294651308)"
      ]
     },
     "execution_count": 15,
     "metadata": {},
     "output_type": "execute_result"
    }
   ],
   "source": [
    "ave_den(g2)"
   ]
  },
  {
   "cell_type": "code",
   "execution_count": 16,
   "id": "a7bf24b9",
   "metadata": {},
   "outputs": [
    {
     "data": {
      "text/plain": [
       "(4.588235294117647, 0.13506493506493505)"
      ]
     },
     "execution_count": 16,
     "metadata": {},
     "output_type": "execute_result"
    }
   ],
   "source": [
    "ave_den(g3)"
   ]
  },
  {
   "cell_type": "code",
   "execution_count": 17,
   "id": "284833ce",
   "metadata": {},
   "outputs": [],
   "source": [
    "def max_deg(g):\n",
    "    array1 = []\n",
    "    list1 = ()\n",
    "    for i in g.nodes():\n",
    "        array1.append([i,g.degree(i)])\n",
    "    max1 = max(array1,key=lambda x:x[1])\n",
    "    return max1"
   ]
  },
  {
   "cell_type": "code",
   "execution_count": 18,
   "id": "3aadb66f",
   "metadata": {},
   "outputs": [
    {
     "data": {
      "text/plain": [
       "['33', 34]"
      ]
     },
     "execution_count": 18,
     "metadata": {},
     "output_type": "execute_result"
    }
   ],
   "source": [
    "max_deg(g1)"
   ]
  },
  {
   "cell_type": "code",
   "execution_count": 19,
   "id": "01ac16b1",
   "metadata": {},
   "outputs": [
    {
     "data": {
      "text/plain": [
       "['107', 1045]"
      ]
     },
     "execution_count": 19,
     "metadata": {},
     "output_type": "execute_result"
    }
   ],
   "source": [
    "max_deg(g2)"
   ]
  },
  {
   "cell_type": "code",
   "execution_count": 20,
   "id": "f7c1c8cc",
   "metadata": {},
   "outputs": [
    {
     "data": {
      "text/plain": [
       "[34, 17]"
      ]
     },
     "execution_count": 20,
     "metadata": {},
     "output_type": "execute_result"
    }
   ],
   "source": [
    "max_deg(g3)"
   ]
  },
  {
   "cell_type": "code",
   "execution_count": 21,
   "id": "1a67b8d7",
   "metadata": {},
   "outputs": [],
   "source": [
    "#crete lists with all the degrees\n",
    "g_ndegrees = g1.degree()\n",
    "g_fdegrees = g2.degree()\n",
    "g_kdegrees = g3.degree()\n",
    "ndegrees = np.array([ g_ndegrees[i] for i in g1.nodes() ])\n",
    "fdegrees = np.array([ g_fdegrees[i] for i in g2.nodes() ])\n",
    "kdegrees = np.array([ g_kdegrees[i] for i in g3.nodes() ])"
   ]
  },
  {
   "cell_type": "markdown",
   "id": "ca2a0a4d",
   "metadata": {},
   "source": [
    "## Ao1.2b"
   ]
  },
  {
   "cell_type": "markdown",
   "id": "f0a58ffc",
   "metadata": {},
   "source": [
    "### Facebook"
   ]
  },
  {
   "cell_type": "code",
   "execution_count": 22,
   "id": "ba251634",
   "metadata": {},
   "outputs": [
    {
     "data": {
      "text/plain": [
       "Text(0, 0.5, 'count')"
      ]
     },
     "execution_count": 22,
     "metadata": {},
     "output_type": "execute_result"
    },
    {
     "data": {
      "image/png": "[encoded data removed]",
      "text/plain": [
       "<Figure size 432x288 with 1 Axes>"
      ]
     },
     "metadata": {
      "needs_background": "light"
     },
     "output_type": "display_data"
    }
   ],
   "source": [
    "# PLot the degree distribution\n",
    "#lin-lin\n",
    "plt.hist( fdegrees )\n",
    "plt.xlabel('degree')\n",
    "plt.ylabel('count')"
   ]
  },
  {
   "cell_type": "code",
   "execution_count": 23,
   "id": "58102604",
   "metadata": {},
   "outputs": [
    {
     "data": {
      "text/plain": [
       "Text(0, 0.5, 'density')"
      ]
     },
     "execution_count": 23,
     "metadata": {},
     "output_type": "execute_result"
    },
    {
     "data": {
      "image/png": "[encoded data removed]",
      "text/plain": [
       "<Figure size 432x288 with 1 Axes>"
      ]
     },
     "metadata": {
      "needs_background": "light"
     },
     "output_type": "display_data"
    }
   ],
   "source": [
    "#lin-lin with bins(integer)\n",
    "_ = plt.hist(fdegrees, bins = 100, density = True)\n",
    "\n",
    "plt.xlabel('degree')\n",
    "plt.ylabel('density')"
   ]
  },
  {
   "cell_type": "code",
   "execution_count": 24,
   "id": "68a67470",
   "metadata": {},
   "outputs": [
    {
     "data": {
      "text/plain": [
       "Text(0, 0.5, 'density')"
      ]
     },
     "execution_count": 24,
     "metadata": {},
     "output_type": "execute_result"
    },
    {
     "data": {
      "image/png": "[encoded data removed]",
      "text/plain": [
       "<Figure size 432x288 with 1 Axes>"
      ]
     },
     "metadata": {
      "needs_background": "light"
     },
     "output_type": "display_data"
    }
   ],
   "source": [
    "#lin-lin with bins (array of numbers)\n",
    "_ = plt.hist(fdegrees, bins = [0.5,2,10,20,50,100,200,400,800,1600], density = True)\n",
    "\n",
    "plt.xlabel('degree')\n",
    "plt.ylabel('density')"
   ]
  },
  {
   "cell_type": "code",
   "execution_count": 25,
   "id": "ddaa04da",
   "metadata": {},
   "outputs": [
    {
     "data": {
      "text/plain": [
       "Text(0, 0.5, 'density')"
      ]
     },
     "execution_count": 25,
     "metadata": {},
     "output_type": "execute_result"
    },
    {
     "data": {
      "image/png": "[encoded data removed]",
      "text/plain": [
       "<Figure size 432x288 with 1 Axes>"
      ]
     },
     "metadata": {
      "needs_background": "light"
     },
     "output_type": "display_data"
    }
   ],
   "source": [
    "#lin-log\n",
    "my_bins = np.logspace(np.log10(min(fdegrees)),np.log10(max(fdegrees) +1), 30 ) \n",
    "_ = plt.hist(fdegrees, bins = my_bins,density = True)\n",
    "plt.yscale('log')\n",
    "\n",
    "plt.xlabel('degree')\n",
    "plt.ylabel('density')"
   ]
  },
  {
   "cell_type": "code",
   "execution_count": 26,
   "id": "f6319ca8",
   "metadata": {},
   "outputs": [
    {
     "data": {
      "text/plain": [
       "Text(0, 0.5, 'density')"
      ]
     },
     "execution_count": 26,
     "metadata": {},
     "output_type": "execute_result"
    },
    {
     "data": {
      "image/png": "[encoded data removed]",
      "text/plain": [
       "<Figure size 432x288 with 1 Axes>"
      ]
     },
     "metadata": {
      "needs_background": "light"
     },
     "output_type": "display_data"
    }
   ],
   "source": [
    "#log-log\n",
    "my_bins = np.logspace(np.log10(min(fdegrees)),np.log10(max(fdegrees) +1), 30 ) \n",
    "_ = plt.hist(fdegrees, bins = my_bins,density = True)\n",
    "plt.xscale('log')\n",
    "plt.yscale('log')\n",
    "\n",
    "plt.xlabel('degree')\n",
    "plt.ylabel('density')"
   ]
  },
  {
   "cell_type": "markdown",
   "id": "ae0bfa9b",
   "metadata": {},
   "source": [
    "### Karate"
   ]
  },
  {
   "cell_type": "code",
   "execution_count": 27,
   "id": "bfe917a4",
   "metadata": {},
   "outputs": [
    {
     "data": {
      "text/plain": [
       "Text(0, 0.5, 'count')"
      ]
     },
     "execution_count": 27,
     "metadata": {},
     "output_type": "execute_result"
    },
    {
     "data": {
      "image/png": "[encoded data removed]",
      "text/plain": [
       "<Figure size 432x288 with 1 Axes>"
      ]
     },
     "metadata": {
      "needs_background": "light"
     },
     "output_type": "display_data"
    }
   ],
   "source": [
    "# PLot the degree distribution\n",
    "#lin-lin\n",
    "plt.hist( kdegrees )\n",
    "plt.xlabel('degree')\n",
    "plt.ylabel('count')"
   ]
  },
  {
   "cell_type": "code",
   "execution_count": 28,
   "id": "071051f2",
   "metadata": {},
   "outputs": [
    {
     "data": {
      "text/plain": [
       "Text(0, 0.5, 'density')"
      ]
     },
     "execution_count": 28,
     "metadata": {},
     "output_type": "execute_result"
    },
    {
     "data": {
      "image/png": "[encoded data removed]",
      "text/plain": [
       "<Figure size 432x288 with 1 Axes>"
      ]
     },
     "metadata": {
      "needs_background": "light"
     },
     "output_type": "display_data"
    }
   ],
   "source": [
    "#lin-lin with bins(integer)\n",
    "_ = plt.hist(kdegrees, bins = 100, density = True)\n",
    "\n",
    "plt.xlabel('degree')\n",
    "plt.ylabel('density')"
   ]
  },
  {
   "cell_type": "code",
   "execution_count": 29,
   "id": "f5996aee",
   "metadata": {},
   "outputs": [
    {
     "data": {
      "text/plain": [
       "Text(0, 0.5, 'density')"
      ]
     },
     "execution_count": 29,
     "metadata": {},
     "output_type": "execute_result"
    },
    {
     "data": {
      "image/png": "[encoded data removed]",
      "text/plain": [
       "<Figure size 432x288 with 1 Axes>"
      ]
     },
     "metadata": {
      "needs_background": "light"
     },
     "output_type": "display_data"
    }
   ],
   "source": [
    "#lin-lin with bins (array of numbers)\n",
    "_ = plt.hist(kdegrees, bins = [0.5,2,10,20,50,100,200,400,800,1600], density = True)\n",
    "\n",
    "plt.xlabel('degree')\n",
    "plt.ylabel('density')"
   ]
  },
  {
   "cell_type": "code",
   "execution_count": 30,
   "id": "6508230d",
   "metadata": {},
   "outputs": [
    {
     "data": {
      "text/plain": [
       "Text(0, 0.5, 'density')"
      ]
     },
     "execution_count": 30,
     "metadata": {},
     "output_type": "execute_result"
    },
    {
     "data": {
      "image/png": "[encoded data removed]",
      "text/plain": [
       "<Figure size 432x288 with 1 Axes>"
      ]
     },
     "metadata": {
      "needs_background": "light"
     },
     "output_type": "display_data"
    }
   ],
   "source": [
    "#lin-log\n",
    "my_bins = np.logspace(np.log10(min(kdegrees)),np.log10(max(kdegrees) +1), 30 ) \n",
    "_ = plt.hist(kdegrees, bins = my_bins,density = True)\n",
    "plt.yscale('log')\n",
    "\n",
    "plt.xlabel('degree')\n",
    "plt.ylabel('density')"
   ]
  },
  {
   "cell_type": "code",
   "execution_count": 31,
   "id": "c1529c1e",
   "metadata": {},
   "outputs": [
    {
     "data": {
      "text/plain": [
       "Text(0, 0.5, 'density')"
      ]
     },
     "execution_count": 31,
     "metadata": {},
     "output_type": "execute_result"
    },
    {
     "data": {
      "image/png": "[encoded data removed]",
      "text/plain": [
       "<Figure size 432x288 with 1 Axes>"
      ]
     },
     "metadata": {
      "needs_background": "light"
     },
     "output_type": "display_data"
    }
   ],
   "source": [
    "#log-log\n",
    "my_bins = np.logspace(np.log10(min(kdegrees)),np.log10(max(kdegrees) +1), 30 ) \n",
    "_ = plt.hist(kdegrees, bins = my_bins,density = True)\n",
    "plt.xscale('log')\n",
    "plt.yscale('log')\n",
    "\n",
    "plt.xlabel('degree')\n",
    "plt.ylabel('density')"
   ]
  },
  {
   "cell_type": "markdown",
   "id": "2d9a665f",
   "metadata": {},
   "source": [
    "### Netsci"
   ]
  },
  {
   "cell_type": "code",
   "execution_count": 32,
   "id": "afdcf7c4",
   "metadata": {},
   "outputs": [
    {
     "data": {
      "text/plain": [
       "Text(0, 0.5, 'count')"
      ]
     },
     "execution_count": 32,
     "metadata": {},
     "output_type": "execute_result"
    },
    {
     "data": {
      "image/png": "[encoded data removed]",
      "text/plain": [
       "<Figure size 432x288 with 1 Axes>"
      ]
     },
     "metadata": {
      "needs_background": "light"
     },
     "output_type": "display_data"
    }
   ],
   "source": [
    "# PLot the degree distribution\n",
    "#lin-lin\n",
    "plt.hist( ndegrees )\n",
    "plt.xlabel('degree')\n",
    "plt.ylabel('count')"
   ]
  },
  {
   "cell_type": "code",
   "execution_count": 33,
   "id": "6dee7bde",
   "metadata": {},
   "outputs": [
    {
     "data": {
      "text/plain": [
       "Text(0, 0.5, 'density')"
      ]
     },
     "execution_count": 33,
     "metadata": {},
     "output_type": "execute_result"
    },
    {
     "data": {
      "image/png": "[encoded data removed]",
      "text/plain": [
       "<Figure size 432x288 with 1 Axes>"
      ]
     },
     "metadata": {
      "needs_background": "light"
     },
     "output_type": "display_data"
    }
   ],
   "source": [
    "#lin-lin with bins(integer)\n",
    "_ = plt.hist(ndegrees, bins = 100, density = True)\n",
    "\n",
    "plt.xlabel('degree')\n",
    "plt.ylabel('density')"
   ]
  },
  {
   "cell_type": "code",
   "execution_count": 34,
   "id": "a692c585",
   "metadata": {},
   "outputs": [
    {
     "data": {
      "text/plain": [
       "Text(0, 0.5, 'density')"
      ]
     },
     "execution_count": 34,
     "metadata": {},
     "output_type": "execute_result"
    },
    {
     "data": {
      "image/png": "[encoded data removed]",
      "text/plain": [
       "<Figure size 432x288 with 1 Axes>"
      ]
     },
     "metadata": {
      "needs_background": "light"
     },
     "output_type": "display_data"
    }
   ],
   "source": [
    "#lin-lin with bins (array of numbers)\n",
    "_ = plt.hist(ndegrees, bins = [0.5,2,10,20,50,100,200,400,800,1600], density = True)\n",
    "\n",
    "plt.xlabel('degree')\n",
    "plt.ylabel('density')"
   ]
  },
  {
   "cell_type": "code",
   "execution_count": 35,
   "id": "8e690559",
   "metadata": {},
   "outputs": [
    {
     "data": {
      "text/plain": [
       "Text(0, 0.5, 'density')"
      ]
     },
     "execution_count": 35,
     "metadata": {},
     "output_type": "execute_result"
    },
    {
     "data": {
      "image/png": "[encoded data removed]",
      "text/plain": [
       "<Figure size 432x288 with 1 Axes>"
      ]
     },
     "metadata": {
      "needs_background": "light"
     },
     "output_type": "display_data"
    }
   ],
   "source": [
    "#lin-log\n",
    "my_bins = np.logspace(np.log10(min(ndegrees)),np.log10(max(ndegrees) +1), 30 ) \n",
    "_ = plt.hist(ndegrees, bins = my_bins,density = True)\n",
    "plt.yscale('log')\n",
    "\n",
    "plt.xlabel('degree')\n",
    "plt.ylabel('density')"
   ]
  },
  {
   "cell_type": "code",
   "execution_count": 36,
   "id": "0d868769",
   "metadata": {},
   "outputs": [
    {
     "data": {
      "text/plain": [
       "Text(0, 0.5, 'density')"
      ]
     },
     "execution_count": 36,
     "metadata": {},
     "output_type": "execute_result"
    },
    {
     "data": {
      "image/png": "[encoded data removed]",
      "text/plain": [
       "<Figure size 432x288 with 1 Axes>"
      ]
     },
     "metadata": {
      "needs_background": "light"
     },
     "output_type": "display_data"
    }
   ],
   "source": [
    "#log-log\n",
    "my_bins = np.logspace(np.log10(min(ndegrees)),np.log10(max(ndegrees) +1), 30 ) \n",
    "_ = plt.hist(ndegrees, bins = my_bins,density = True)\n",
    "plt.xscale('log')\n",
    "plt.yscale('log')\n",
    "\n",
    "plt.xlabel('degree')\n",
    "plt.ylabel('density')"
   ]
  }
 ],
 "metadata": {
  "kernelspec": {
   "display_name": "Python 3 (ipykernel)",
   "language": "python",
   "name": "python3"
  },
  "language_info": {
   "codemirror_mode": {
    "name": "ipython",
    "version": 3
   },
   "file_extension": ".py",
   "mimetype": "text/x-python",
   "name": "python",
   "nbconvert_exporter": "python",
   "pygments_lexer": "ipython3",
   "version": "3.9.7"
  }
 },
 "nbformat": 4,
 "nbformat_minor": 5
}
